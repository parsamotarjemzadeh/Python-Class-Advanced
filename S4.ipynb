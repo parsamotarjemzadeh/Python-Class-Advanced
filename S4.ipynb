{
 "cells": [
  {
   "cell_type": "markdown",
   "metadata": {},
   "source": [
    "**session 4**  \n",
    "1401/06/08  \n",
    ">Math  \n",
    ">>min  \n",
    ">>max  \n",
    ">>abs  \n",
    ">>pow  \n",
    ">>math module  \n",
    ">>>math.sqrt  \n",
    ">>>math.ceil  \n",
    ">>>math.floor  \n",
    ">>>math.pi  \n",
    "\n",
    ">Objects  \n",
    ">>define a class  \n",
    ">>values  \n",
    ">>methods  \n",
    ">>>init  "
   ]
  },
  {
   "cell_type": "code",
   "execution_count": 16,
   "metadata": {},
   "outputs": [
    {
     "name": "stdout",
     "output_type": "stream",
     "text": [
      "4\n"
     ]
    }
   ],
   "source": [
    "x = pow(2,10) # **\n",
    "#abs()\n",
    "#min()\n",
    "#max()\n",
    "#pow()\n",
    "print(x)"
   ]
  },
  {
   "cell_type": "code",
   "execution_count": 25,
   "metadata": {},
   "outputs": [
    {
     "name": "stdout",
     "output_type": "stream",
     "text": [
      "1.0\n"
     ]
    }
   ],
   "source": [
    "import math\n",
    "# 4*4*3.14\n",
    "#print(math.pi)\n",
    "i = math.sin(math.pi/2)\n",
    "#math.cos() / \n",
    "print(i)"
   ]
  },
  {
   "cell_type": "code",
   "execution_count": 30,
   "metadata": {},
   "outputs": [
    {
     "name": "stdout",
     "output_type": "stream",
     "text": [
      "3.0\n"
     ]
    }
   ],
   "source": [
    "#u = math.sqrt(25)\n",
    "u = pow(27 , 1/3)\n",
    "print(u)"
   ]
  },
  {
   "cell_type": "code",
   "execution_count": 48,
   "metadata": {},
   "outputs": [
    {
     "name": "stdout",
     "output_type": "stream",
     "text": [
      "A new apple!!!\n",
      "A new apple!!!\n",
      "2 Red\n"
     ]
    }
   ],
   "source": [
    "class Apple:\n",
    "    cl = \"Yellow\"\n",
    "    size = 2 # 1,2,3\n",
    "    def __init__(self):\n",
    "        print(\"A new apple!!!\")\n",
    "\n",
    "    def changecl(self, c):\n",
    "        self.cl = c\n",
    "\n",
    "\n",
    "myapple = Apple()\n",
    "#myapple.cl = \"Red\"\n",
    "myapple.changecl(\"Red\")\n",
    "apple2 = Apple()\n",
    "apple2.cl = \"Green\"\n",
    "print(myapple.size , myapple.cl)\n"
   ]
  },
  {
   "cell_type": "code",
   "execution_count": 49,
   "metadata": {},
   "outputs": [
    {
     "name": "stdout",
     "output_type": "stream",
     "text": [
      "['__class__', '__delattr__', '__dict__', '__dir__', '__doc__', '__eq__', '__format__', '__ge__', '__getattribute__', '__gt__', '__hash__', '__init__', '__init_subclass__', '__le__', '__lt__', '__module__', '__ne__', '__new__', '__reduce__', '__reduce_ex__', '__repr__', '__setattr__', '__sizeof__', '__str__', '__subclasshook__', '__weakref__', 'changecl', 'cl', 'size']\n"
     ]
    }
   ],
   "source": [
    "q = \"d\"\n",
    "print(dir(apple2))"
   ]
  }
 ],
 "metadata": {
  "kernelspec": {
   "display_name": "Python 3.10.5 64-bit",
   "language": "python",
   "name": "python3"
  },
  "language_info": {
   "codemirror_mode": {
    "name": "ipython",
    "version": 3
   },
   "file_extension": ".py",
   "mimetype": "text/x-python",
   "name": "python",
   "nbconvert_exporter": "python",
   "pygments_lexer": "ipython3",
   "version": "3.10.5"
  },
  "orig_nbformat": 4,
  "vscode": {
   "interpreter": {
    "hash": "e7370f93d1d0cde622a1f8e1c04877d8463912d04d973331ad4851f04de6915a"
   }
  }
 },
 "nbformat": 4,
 "nbformat_minor": 2
}
