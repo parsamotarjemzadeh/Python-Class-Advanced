{
 "cells": [
  {
   "cell_type": "markdown",
   "metadata": {},
   "source": [
    "**session 5**  \n",
    "1401/06/15  "
   ]
  },
  {
   "cell_type": "code",
   "execution_count": 71,
   "metadata": {},
   "outputs": [
    {
     "name": "stdout",
     "output_type": "stream",
     "text": [
      "[[[96 58 60 36]\n",
      "  [79 39 13 57]\n",
      "  [98 14 42 97]]\n",
      "\n",
      " [[13 44  5  0]\n",
      "  [ 9 96 77 41]\n",
      "  [50 67 12  7]]]\n",
      "<class 'numpy.ndarray'>\n"
     ]
    }
   ],
   "source": [
    "import numpy as np\n",
    "x = np.random.randint(100, size=(2,3,4)) \n",
    "print(x)\n",
    "print(type(x))"
   ]
  },
  {
   "cell_type": "code",
   "execution_count": 114,
   "metadata": {},
   "outputs": [
    {
     "name": "stdout",
     "output_type": "stream",
     "text": [
      "[ 40 -41 -91 -88]\n"
     ]
    }
   ],
   "source": [
    "from numpy import random\n",
    "x = random.randint(201,size=(4))\n",
    "# random.rand() --> float number 0 - 1\n",
    "print(x-100) #[-100,100]"
   ]
  },
  {
   "cell_type": "code",
   "execution_count": 120,
   "metadata": {},
   "outputs": [
    {
     "name": "stdout",
     "output_type": "stream",
     "text": [
      "[['sun' '2']\n",
      " ['2' '1']\n",
      " ['sun' '1']\n",
      " ['1' '1']\n",
      " ['apple' '1']\n",
      " ['apple' 'sun']\n",
      " ['1' '3.4']\n",
      " ['sun' '3.4']\n",
      " ['1' 'apple']\n",
      " ['sun' '1']]\n"
     ]
    }
   ],
   "source": [
    "import numpy.random as rd\n",
    "ls = [1,2,\"apple\", \"sun\", 3.4]\n",
    "x = rd.choice(ls,size=(10,2))\n",
    "print(x)"
   ]
  },
  {
   "cell_type": "code",
   "execution_count": 124,
   "metadata": {},
   "outputs": [
    {
     "name": "stdout",
     "output_type": "stream",
     "text": [
      "[1 2 3 4]\n",
      "<class 'numpy.ndarray'>\n"
     ]
    }
   ],
   "source": [
    "from numpy import array as arr\n",
    "x = arr([1,2,3,4])\n",
    "print(x)\n",
    "print(type(x))"
   ]
  },
  {
   "cell_type": "code",
   "execution_count": 131,
   "metadata": {},
   "outputs": [
    {
     "name": "stdout",
     "output_type": "stream",
     "text": [
      "[[[ 1  2  3]\n",
      "  [ 4  5  6]]\n",
      "\n",
      " [[ 7  8  9]\n",
      "  [10 11 12]]]\n"
     ]
    }
   ],
   "source": [
    "y = arr([[[1,2,3],[4,5,6]],[[7,8,9],[10,11,12]]])\n",
    "print(y)"
   ]
  }
 ],
 "metadata": {
  "kernelspec": {
   "display_name": "Python 3.10.5 64-bit",
   "language": "python",
   "name": "python3"
  },
  "language_info": {
   "codemirror_mode": {
    "name": "ipython",
    "version": 3
   },
   "file_extension": ".py",
   "mimetype": "text/x-python",
   "name": "python",
   "nbconvert_exporter": "python",
   "pygments_lexer": "ipython3",
   "version": "3.10.5"
  },
  "orig_nbformat": 4,
  "vscode": {
   "interpreter": {
    "hash": "e7370f93d1d0cde622a1f8e1c04877d8463912d04d973331ad4851f04de6915a"
   }
  }
 },
 "nbformat": 4,
 "nbformat_minor": 2
}
