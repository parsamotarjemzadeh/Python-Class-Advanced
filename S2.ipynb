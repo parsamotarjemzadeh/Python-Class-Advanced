{
 "cells": [
  {
   "cell_type": "markdown",
   "metadata": {},
   "source": [
    "session 2\n",
    "1401/05/25\n",
    "tuples / if(else/elif) / while / lists"
   ]
  },
  {
   "cell_type": "code",
   "execution_count": null,
   "metadata": {},
   "outputs": [],
   "source": [
    "a, b, c = (\"Fizik\", \"Riazi\", \"Zaban\")"
   ]
  },
  {
   "cell_type": "code",
   "execution_count": 3,
   "metadata": {},
   "outputs": [
    {
     "name": "stdout",
     "output_type": "stream",
     "text": [
      "0\n",
      "1\n",
      "2\n",
      "3\n"
     ]
    }
   ],
   "source": [
    "i = 0\n",
    "while i != -1:\n",
    "    i = int(input())\n",
    "    print(i%4)"
   ]
  },
  {
   "cell_type": "markdown",
   "metadata": {},
   "source": [
    "== /\n",
    "!= /\n",
    ">= /\n",
    "<= /"
   ]
  },
  {
   "cell_type": "code",
   "execution_count": null,
   "metadata": {},
   "outputs": [],
   "source": [
    "\n",
    "i = int(input())\n",
    "if ( not(i % 4 == 0) and (i % 3 == 0) ):\n",
    "    pass\n",
    "if ( (i % 2 == 0) or (i % 3 == 0) ):\n",
    "    pass\n",
    "\n",
    "# x y  and   or\n",
    "# 1 1   1    1     0 -> False\n",
    "# 1 0   0    1     1 -> True\n",
    "# 0 1   0    1\n",
    "# 0 0   0    0"
   ]
  },
  {
   "cell_type": "code",
   "execution_count": null,
   "metadata": {},
   "outputs": [],
   "source": [
    "ls = [1,2,3, \"str\"]\n",
    "if 1 in ls:\n",
    "    pass"
   ]
  },
  {
   "cell_type": "code",
   "execution_count": 5,
   "metadata": {},
   "outputs": [
    {
     "name": "stdout",
     "output_type": "stream",
     "text": [
      "YES\n"
     ]
    }
   ],
   "source": [
    "w = input(\"Please enter a word: \")\n",
    "st = \"Hello World\"\n",
    "if w.lower() in st.lower():\n",
    "    print(\"YES\")\n",
    "else: print(\"NO\")"
   ]
  },
  {
   "cell_type": "code",
   "execution_count": 8,
   "metadata": {},
   "outputs": [
    {
     "name": "stdout",
     "output_type": "stream",
     "text": [
      "Added\n",
      "Added\n"
     ]
    }
   ],
   "source": [
    "ls = []\n",
    "i = 0\n",
    "while not i == -1:\n",
    "    i = int(input())\n",
    "    if i in ls:\n",
    "        print(\"YES\")\n",
    "    else: \n",
    "        ls.append(i)\n",
    "        print(\"Added\")"
   ]
  },
  {
   "cell_type": "code",
   "execution_count": 12,
   "metadata": {},
   "outputs": [
    {
     "name": "stdout",
     "output_type": "stream",
     "text": [
      "[1, 2, 3, 4, 5]\n"
     ]
    }
   ],
   "source": [
    "i = 0\n",
    "ls = []\n",
    "while len(ls) < 5:\n",
    "    i = int(input())\n",
    "    if not i in ls: ls.append(i)\n",
    "print(ls)"
   ]
  }
 ],
 "metadata": {
  "kernelspec": {
   "display_name": "Python 3.10.5 64-bit",
   "language": "python",
   "name": "python3"
  },
  "language_info": {
   "codemirror_mode": {
    "name": "ipython",
    "version": 3
   },
   "file_extension": ".py",
   "mimetype": "text/x-python",
   "name": "python",
   "nbconvert_exporter": "python",
   "pygments_lexer": "ipython3",
   "version": "3.10.5"
  },
  "orig_nbformat": 4,
  "vscode": {
   "interpreter": {
    "hash": "e7370f93d1d0cde622a1f8e1c04877d8463912d04d973331ad4851f04de6915a"
   }
  }
 },
 "nbformat": 4,
 "nbformat_minor": 2
}
