{
 "cells": [
  {
   "cell_type": "markdown",
   "metadata": {},
   "source": [
    "**session 6**  \n",
    "*1401/06/22*  \n",
    "*numpy / matplotlib*"
   ]
  },
  {
   "cell_type": "code",
   "execution_count": 9,
   "metadata": {},
   "outputs": [
    {
     "name": "stdout",
     "output_type": "stream",
     "text": [
      "[[1 2 3]\n",
      " [4 5 6]] \n",
      "\n",
      "[[ 7  8]\n",
      " [ 9 10]\n",
      " [11 12]] \n",
      "\n",
      "[[ 2  4  6]\n",
      " [ 8 10 12]] \n",
      "\n",
      "[[ 58  64]\n",
      " [139 154]]\n"
     ]
    }
   ],
   "source": [
    "import numpy as np\n",
    "\n",
    "''' m1 =   1\n",
    "           2\n",
    "           3\n",
    "\n",
    "    m2 =   1   2   3\n",
    "'''\n",
    "m1 = np.array(([1,2,3],[4,5,6]))\n",
    "m2 = np.array(([7,8],[9,10],[11,12]))\n",
    "\n",
    "print(m1,'\\n')\n",
    "print(m2,'\\n')\n",
    "\n",
    "m3 = np.dot(m1,m2)\n",
    "print(2*m1,'\\n')\n",
    "print(m3)"
   ]
  },
  {
   "cell_type": "code",
   "execution_count": null,
   "metadata": {},
   "outputs": [],
   "source": []
  }
 ],
 "metadata": {
  "kernelspec": {
   "display_name": "Python 3.10.5 64-bit",
   "language": "python",
   "name": "python3"
  },
  "language_info": {
   "codemirror_mode": {
    "name": "ipython",
    "version": 3
   },
   "file_extension": ".py",
   "mimetype": "text/x-python",
   "name": "python",
   "nbconvert_exporter": "python",
   "pygments_lexer": "ipython3",
   "version": "3.10.5"
  },
  "orig_nbformat": 4,
  "vscode": {
   "interpreter": {
    "hash": "e7370f93d1d0cde622a1f8e1c04877d8463912d04d973331ad4851f04de6915a"
   }
  }
 },
 "nbformat": 4,
 "nbformat_minor": 2
}
